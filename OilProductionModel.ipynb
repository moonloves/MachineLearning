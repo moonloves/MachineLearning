{
 "cells": [
  {
   "cell_type": "code",
   "execution_count": 2,
   "metadata": {},
   "outputs": [],
   "source": [
    "import pandas as pd\n",
    "import numpy as np\n",
    "import matplotlib.pyplot as plt"
   ]
  },
  {
   "cell_type": "code",
   "execution_count": 3,
   "metadata": {},
   "outputs": [],
   "source": [
    "#data = pd.read_csv('OilProduction.txt', sep=\"\\t\", engine='python', encoding=\"cp949\")\n",
    "data = pd.read_csv('OilProduction.txt', sep=\"\\t\", engine='python', encoding=\"cp949\", header=1)"
   ]
  },
  {
   "cell_type": "code",
   "execution_count": 4,
   "metadata": {},
   "outputs": [
    {
     "data": {
      "text/html": [
       "<div>\n",
       "<style scoped>\n",
       "    .dataframe tbody tr th:only-of-type {\n",
       "        vertical-align: middle;\n",
       "    }\n",
       "\n",
       "    .dataframe tbody tr th {\n",
       "        vertical-align: top;\n",
       "    }\n",
       "\n",
       "    .dataframe thead th {\n",
       "        text-align: right;\n",
       "    }\n",
       "</style>\n",
       "<table border=\"1\" class=\"dataframe\">\n",
       "  <thead>\n",
       "    <tr style=\"text-align: right;\">\n",
       "      <th></th>\n",
       "      <th>1880</th>\n",
       "      <th>30</th>\n",
       "    </tr>\n",
       "  </thead>\n",
       "  <tbody>\n",
       "    <tr>\n",
       "      <th>0</th>\n",
       "      <td>1890</td>\n",
       "      <td>77</td>\n",
       "    </tr>\n",
       "    <tr>\n",
       "      <th>1</th>\n",
       "      <td>1900</td>\n",
       "      <td>149</td>\n",
       "    </tr>\n",
       "    <tr>\n",
       "      <th>2</th>\n",
       "      <td>1905</td>\n",
       "      <td>215</td>\n",
       "    </tr>\n",
       "    <tr>\n",
       "      <th>3</th>\n",
       "      <td>1910</td>\n",
       "      <td>328</td>\n",
       "    </tr>\n",
       "    <tr>\n",
       "      <th>4</th>\n",
       "      <td>1915</td>\n",
       "      <td>432</td>\n",
       "    </tr>\n",
       "  </tbody>\n",
       "</table>\n",
       "</div>"
      ],
      "text/plain": [
       "   1880   30\n",
       "0  1890   77\n",
       "1  1900  149\n",
       "2  1905  215\n",
       "3  1910  328\n",
       "4  1915  432"
      ]
     },
     "execution_count": 4,
     "metadata": {},
     "output_type": "execute_result"
    }
   ],
   "source": [
    "data.head()"
   ]
  },
  {
   "cell_type": "code",
   "execution_count": 5,
   "metadata": {},
   "outputs": [
    {
     "data": {
      "text/plain": [
       "array([[1890],\n",
       "       [1900],\n",
       "       [1905],\n",
       "       [1910],\n",
       "       [1915],\n",
       "       [1920],\n",
       "       [1925],\n",
       "       [1930],\n",
       "       [1935],\n",
       "       [1940],\n",
       "       [1945],\n",
       "       [1950],\n",
       "       [1955],\n",
       "       [1960],\n",
       "       [1962],\n",
       "       [1964],\n",
       "       [1966],\n",
       "       [1968],\n",
       "       [1970],\n",
       "       [1972],\n",
       "       [1974],\n",
       "       [1976],\n",
       "       [1978],\n",
       "       [1980],\n",
       "       [1982],\n",
       "       [1984]], dtype=int64)"
      ]
     },
     "execution_count": 5,
     "metadata": {},
     "output_type": "execute_result"
    }
   ],
   "source": [
    "X = data.iloc[:, 0] # year\n",
    "X = X.values.reshape(-1, 1)\n",
    "X"
   ]
  },
  {
   "cell_type": "code",
   "execution_count": 6,
   "metadata": {},
   "outputs": [
    {
     "data": {
      "text/plain": [
       "array([[   77],\n",
       "       [  149],\n",
       "       [  215],\n",
       "       [  328],\n",
       "       [  432],\n",
       "       [  689],\n",
       "       [ 1069],\n",
       "       [ 1412],\n",
       "       [ 1655],\n",
       "       [ 2150],\n",
       "       [ 2595],\n",
       "       [ 3803],\n",
       "       [ 5626],\n",
       "       [ 7674],\n",
       "       [ 8882],\n",
       "       [10310],\n",
       "       [12016],\n",
       "       [14104],\n",
       "       [16690],\n",
       "       [18584],\n",
       "       [20389],\n",
       "       [20188],\n",
       "       [21922],\n",
       "       [21732],\n",
       "       [19403],\n",
       "       [19608]], dtype=int64)"
      ]
     },
     "execution_count": 6,
     "metadata": {},
     "output_type": "execute_result"
    }
   ],
   "source": [
    "y = data.iloc[:, 1] #Mbbl\n",
    "y = y.values.reshape(-1, 1)\n",
    "y"
   ]
  },
  {
   "cell_type": "code",
   "execution_count": 7,
   "metadata": {},
   "outputs": [
    {
     "data": {
      "image/png": "[encoded data removed]",
      "text/plain": [
       "<Figure size 432x288 with 1 Axes>"
      ]
     },
     "metadata": {},
     "output_type": "display_data"
    }
   ],
   "source": [
    "plt.plot(X,y,\"b.\")\n",
    "plt.ylabel(\"Y\", fontsize=15,rotation=0)\n",
    "plt.xlabel(\"X\", fontsize=15)\n",
    "plt.show()"
   ]
  },
  {
   "cell_type": "code",
   "execution_count": 8,
   "metadata": {},
   "outputs": [
    {
     "name": "stdout",
     "output_type": "stream",
     "text": [
      "[1890]\n",
      "[1.8900e+03 3.5721e+06]\n"
     ]
    }
   ],
   "source": [
    "from sklearn.preprocessing import PolynomialFeatures\n",
    "\n",
    "poly_features = PolynomialFeatures(degree=2, include_bias=False)\n",
    "X_poly = poly_features.fit_transform(X)\n",
    "\n",
    "print(X[0])\n",
    "print(X_poly[0])"
   ]
  },
  {
   "cell_type": "code",
   "execution_count": 9,
   "metadata": {},
   "outputs": [
    {
     "data": {
      "text/plain": [
       "(array([17618702.97777436]), array([[-1.84168924e+04,  4.81262144e+00]]))"
      ]
     },
     "execution_count": 9,
     "metadata": {},
     "output_type": "execute_result"
    }
   ],
   "source": [
    "from sklearn.linear_model import LinearRegression\n",
    "\n",
    "lin_reg = LinearRegression()\n",
    "lin_reg.fit(X_poly, y)\n",
    "lin_reg.intercept_ , lin_reg.coef_"
   ]
  },
  {
   "cell_type": "code",
   "execution_count": 10,
   "metadata": {},
   "outputs": [
    {
     "data": {
      "image/png": "[encoded data removed]",
      "text/plain": [
       "<Figure size 432x288 with 1 Axes>"
      ]
     },
     "metadata": {},
     "output_type": "display_data"
    }
   ],
   "source": [
    "X_new=np.linspace(1880, 1990, 100).reshape(100, 1)\n",
    "X_new_poly = poly_features.transform(X_new)\n",
    "y_new = lin_reg.predict(X_new_poly)\n",
    "\n",
    "plt.plot(X, y, \"b.\")\n",
    "plt.plot(X_new, y_new, \"r-\", linewidth=2, label=\"Predictions\")\n",
    "plt.xlabel(\"Year\", fontsize=18)\n",
    "plt.ylabel(\"OP\", rotation=0, fontsize=18)\n",
    "plt.legend(loc=\"upper left\", fontsize=14)\n",
    "plt.axis([1880, 2000, -1000, 20000])\n",
    "plt.show()"
   ]
  },
  {
   "cell_type": "code",
   "execution_count": null,
   "metadata": {},
   "outputs": [],
   "source": []
  },
  {
   "cell_type": "code",
   "execution_count": null,
   "metadata": {},
   "outputs": [],
   "source": []
  },
  {
   "cell_type": "code",
   "execution_count": null,
   "metadata": {},
   "outputs": [],
   "source": []
  },
  {
   "cell_type": "code",
   "execution_count": null,
   "metadata": {},
   "outputs": [],
   "source": []
  },
  {
   "cell_type": "code",
   "execution_count": null,
   "metadata": {},
   "outputs": [],
   "source": []
  },
  {
   "cell_type": "code",
   "execution_count": 12,
   "metadata": {},
   "outputs": [],
   "source": [
    "x = [50000.,  100000.,  150000.,  200000.,  250000.,  300000.,\n",
    "    350000.,  400000.,  450000.,  500000.,  550000.,  600000.,\n",
    "    650000.,  700000.,  750000.,  800000.,  850000.,  900000.,\n",
    "    950000., 1000000.]\n",
    "y = [1.87792730e-06, 3.81015841e-07, 1.89900422e-07, 1.21302069e-07,\n",
    "   8.39703240e-08, 6.18937868e-08, 4.98975718e-08, 3.97720839e-08,\n",
    "   3.23420144e-08, 2.79493666e-08, 2.35548293e-08, 2.01505953e-08,\n",
    "   1.81079429e-08, 1.59391671e-08, 1.37227044e-08, 1.30031234e-08,\n",
    "   1.19076952e-08, 1.10967303e-08, 9.43339053e-09, 8.98627485e-09] "
   ]
  },
  {
   "cell_type": "code",
   "execution_count": 13,
   "metadata": {},
   "outputs": [
    {
     "name": "stderr",
     "output_type": "stream",
     "text": [
      "C:\\ProgramData\\Anaconda3\\lib\\site-packages\\scipy\\optimize\\minpack.py:794: OptimizeWarning: Covariance of the parameters could not be estimated\n",
      "  category=OptimizeWarning)\n"
     ]
    },
    {
     "data": {
      "text/plain": [
       "(array([ 8.98627485e-09, -1.00000000e+00,  1.50593655e-07]),\n",
       " array([[inf, inf, inf],\n",
       "        [inf, inf, inf],\n",
       "        [inf, inf, inf]]))"
      ]
     },
     "execution_count": 13,
     "metadata": {},
     "output_type": "execute_result"
    }
   ],
   "source": [
    "from scipy.optimize import curve_fit\n",
    "import numpy as np\n",
    "from matplotlib import pyplot as plt \n",
    "def f(x, a, b, c): \n",
    "    return a*np.exp(b*x)+c\n",
    "curve_fit(f, x, y, p0=[np.min(y), -1, np.min(y)])\n",
    " "
   ]
  },
  {
   "cell_type": "code",
   "execution_count": 14,
   "metadata": {},
   "outputs": [
    {
     "name": "stdout",
     "output_type": "stream",
     "text": [
      "Parameters: [ 9.33311312e+00 -5.70168835e+06  1.49569657e+00]\n",
      "RMSE: 1.2672196845074618e-09\n",
      "R-squared: 0.9999911187269674\n",
      "\n"
     ]
    },
    {
     "data": {
      "image/png": "[encoded data removed]",
      "text/plain": [
       "<Figure size 800x600 with 1 Axes>"
      ]
     },
     "metadata": {},
     "output_type": "display_data"
    }
   ],
   "source": [
    "import numpy, scipy, matplotlib\n",
    "import matplotlib.pyplot as plt\n",
    "from scipy.optimize import curve_fit\n",
    "\n",
    "xData = numpy.array([50000.0, 100000.0, 150000.0, 200000.0, 250000.0, 300000.0, 350000.0, 400000.0, 450000.0, 500000.0, 550000.0, 600000.0, 650000.0, 700000.0, 750000.0, 800000.0, 850000.0, 900000.0, 950000.0, 1000000.0])\n",
    "yData = numpy.array([1.8779273e-06, 3.81015841e-07, 1.89900422e-07, 1.21302069e-07, 8.3970324e-08, 6.18937868e-08, 4.98975718e-08, 3.97720839e-08, 3.23420144e-08, 2.79493666e-08, 2.35548293e-08, 2.01505953e-08, 1.81079429e-08, 1.59391671e-08, 1.37227044e-08, 1.30031234e-08, 1.19076952e-08, 1.10967303e-08, 9.43339053e-09, 8.98627485e-09])\n",
    "def func(x, a, b, c): # from zunzun.com equation search\n",
    "    return a / (b+numpy.power(x, c))\n",
    "# these are the same as the scipy defaults\n",
    "initialParameters = numpy.array([1.0, 1.0, 1.0])\n",
    "# curve fit the test data\n",
    "fittedParameters, pcov = curve_fit(func, xData, yData, initialParameters)\n",
    "modelPredictions = func(xData, *fittedParameters) \n",
    "absError = modelPredictions - yData\n",
    "SE = numpy.square(absError) # squared errors\n",
    "MSE = numpy.mean(SE) # mean squared errors\n",
    "RMSE = numpy.sqrt(MSE) # Root Mean Squared Error, RMSE\n",
    "Rsquared = 1.0 - (numpy.var(absError) / numpy.var(yData))\n",
    "print('Parameters:', fittedParameters)\n",
    "print('RMSE:', RMSE)\n",
    "print('R-squared:', Rsquared)\n",
    "print()\n",
    "##########################################################\n",
    "# graphics output section\n",
    "def ModelAndScatterPlot(graphWidth, graphHeight):\n",
    "    f = plt.figure(figsize=(graphWidth/100.0, graphHeight/100.0), dpi=100)\n",
    "    axes = f.add_subplot(111)\n",
    "    # first the raw data as a scatter plot\n",
    "    axes.plot(xData, yData,  'D')\n",
    "    # create data for the fitted equation plot\n",
    "    xModel = numpy.linspace(min(xData), max(xData))\n",
    "    yModel = func(xModel, *fittedParameters)\n",
    "    # now the model as a line plot\n",
    "    axes.plot(xModel, yModel)\n",
    "    axes.set_xlabel('X Data') # X axis data label\n",
    "    axes.set_ylabel('Y Data') # Y axis data label\n",
    "    plt.show()\n",
    "    plt.close('all') # clean up after using pyplot\n",
    "graphWidth = 800\n",
    "graphHeight = 600\n",
    "ModelAndScatterPlot(graphWidth, graphHeight)\n",
    " "
   ]
  },
  {
   "cell_type": "code",
   "execution_count": null,
   "metadata": {},
   "outputs": [],
   "source": []
  },
  {
   "cell_type": "code",
   "execution_count": null,
   "metadata": {},
   "outputs": [],
   "source": []
  },
  {
   "cell_type": "code",
   "execution_count": null,
   "metadata": {},
   "outputs": [],
   "source": []
  },
  {
   "cell_type": "code",
   "execution_count": 44,
   "metadata": {},
   "outputs": [
    {
     "name": "stdout",
     "output_type": "stream",
     "text": [
      "Parameters: [ 9.33311312e+00 -5.70168835e+06  1.49569657e+00]\n",
      "RMSE: 1.2672196845074618e-09\n",
      "R-squared: 0.9999911187269674\n",
      "\n"
     ]
    },
    {
     "data": {
      "image/png": "[encoded data removed]",
      "text/plain": [
       "<Figure size 800x600 with 1 Axes>"
      ]
     },
     "metadata": {},
     "output_type": "display_data"
    }
   ],
   "source": [
    "import numpy, scipy, matplotlib\n",
    "import matplotlib.pyplot as plt\n",
    "from scipy.optimize import curve_fit\n",
    "\n",
    "xData = numpy.array([50000.0, 100000.0, 150000.0, 200000.0, 250000.0, 300000.0, 350000.0, 400000.0, 450000.0, 500000.0, 550000.0, 600000.0, 650000.0, 700000.0, 750000.0, 800000.0, 850000.0, 900000.0, 950000.0, 1000000.0])\n",
    "yData = numpy.array([1.8779273e-06, 3.81015841e-07, 1.89900422e-07, 1.21302069e-07, 8.3970324e-08, 6.18937868e-08, 4.98975718e-08, 3.97720839e-08, 3.23420144e-08, 2.79493666e-08, 2.35548293e-08, 2.01505953e-08, 1.81079429e-08, 1.59391671e-08, 1.37227044e-08, 1.30031234e-08, 1.19076952e-08, 1.10967303e-08, 9.43339053e-09, 8.98627485e-09])\n",
    "\n",
    "# xData = numpy.array([1890, 1900, 1905, 1910, 1915, 1920, 1925, 1930.0, 1935.0, 1940.0, 1945.0, 1950.0, 1955.0, 1960.0, 1962.0, 1964.0, 1966.0, 1968.0, 1970.0, 1972.0])\n",
    "# yData = numpy.array([1.8779273e-06, 3.81015841e-07, 1.89900422e-07, 1.21302069e-07, 8.3970324e-08, 6.18937868e-08, 4.98975718e-08, 3.97720839e-08, 3.23420144e-08, 2.79493666e-08, 2.35548293e-08, 2.01505953e-08, 1.81079429e-08, 1.59391671e-08, 1.37227044e-08, 1.30031234e-08, 1.19076952e-08, 1.10967303e-08, 9.43339053e-09, 8.98627485e-09])\n",
    "\n",
    "# xData = numpy.array([1890.0, 1900.0, 1905.0, 1910.0, 1915.0, 1920.0, 1925.0, 1930.0, 1935.0, 1940.0, 550000.0, 600000.0, 650000.0, 700000.0, 750000.0, 800000.0, 850000.0, 900000.0, 950000.0, 1000000.0])\n",
    "# yData = numpy.array([77, 149, 215, 328, 432, 689, 1069, 3.97720839e-08, 3.23420144e-08, 2.79493666e-08, 2.35548293e-08, 2.01505953e-08, 1.81079429e-08, 1.59391671e-08, 1.37227044e-08, 1.30031234e-08, 1.19076952e-08, 1.10967303e-08, 9.43339053e-09, 8.98627485e-09])\n",
    "\n",
    "\"\"\"\n",
    "xData = np.array([[1890.0], [1900.0], [1905.0], [1910.0], [1915.0],[1920],[1925],[1930],[1935],[1940],[1945],[1950],[1955],[1960],[1962],[1964],\n",
    "       [1966],[1968],[1970],[1972],[1974],[1976],[1978],[1980],[1982],[1984]])\n",
    "yData = np.array([[   77.0],[  149],[  215],[  328],[  432],[  689],[ 1069],[ 1412],[ 1655],[ 2150],[ 2595],[ 3803],[ 5626],[ 7674],[ 8882],\n",
    "       [10310],[12016],[14104],[16690],[18584],[20389],[20188],[21922],[21732],[19403],[19608]])\n",
    "\"\"\"\n",
    "\n",
    "def func(x, a, b, c): # from zunzun.com equation search\n",
    "    return a / (b+numpy.power(x, c))\n",
    "# these are the same as the scipy defaults\n",
    "initialParameters = numpy.array([1.0, 1.0, 1.0])\n",
    "# curve fit the test data\n",
    "fittedParameters, pcov = curve_fit(func, xData, yData, initialParameters)\n",
    "\n",
    "modelPredictions = func(xData, *fittedParameters) \n",
    "\n",
    "absError = modelPredictions - yData\n",
    "\n",
    "SE = numpy.square(absError) # squared errors\n",
    "MSE = numpy.mean(SE) # mean squared errors\n",
    "RMSE = numpy.sqrt(MSE) # Root Mean Squared Error, RMSE\n",
    "Rsquared = 1.0 - (numpy.var(absError) / numpy.var(yData))\n",
    "print('Parameters:', fittedParameters)\n",
    "print('RMSE:', RMSE)\n",
    "print('R-squared:', Rsquared)\n",
    "print()\n",
    "##########################################################\n",
    "# graphics output section\n",
    "def ModelAndScatterPlot(graphWidth, graphHeight):\n",
    "    f = plt.figure(figsize=(graphWidth/100.0, graphHeight/100.0), dpi=100)\n",
    "    axes = f.add_subplot(111)\n",
    "    # first the raw data as a scatter plot\n",
    "    axes.plot(xData, yData,  'D')\n",
    "    # create data for the fitted equation plot\n",
    "    xModel = numpy.linspace(min(xData), max(xData))\n",
    "    yModel = func(xModel, *fittedParameters)\n",
    "    # now the model as a line plot\n",
    "    axes.plot(xModel, yModel)\n",
    "    axes.set_xlabel('X Data') # X axis data label\n",
    "    axes.set_ylabel('Y Data') # Y axis data label\n",
    "    plt.show()\n",
    "    plt.close('all') # clean up after using pyplot\n",
    "graphWidth = 800\n",
    "graphHeight = 600\n",
    "ModelAndScatterPlot(graphWidth, graphHeight)\n",
    " "
   ]
  },
  {
   "cell_type": "code",
   "execution_count": null,
   "metadata": {},
   "outputs": [],
   "source": []
  },
  {
   "cell_type": "code",
   "execution_count": null,
   "metadata": {},
   "outputs": [],
   "source": []
  },
  {
   "cell_type": "code",
   "execution_count": null,
   "metadata": {},
   "outputs": [],
   "source": []
  },
  {
   "cell_type": "code",
   "execution_count": null,
   "metadata": {},
   "outputs": [],
   "source": []
  },
  {
   "cell_type": "code",
   "execution_count": null,
   "metadata": {},
   "outputs": [],
   "source": []
  },
  {
   "cell_type": "code",
   "execution_count": null,
   "metadata": {},
   "outputs": [],
   "source": []
  },
  {
   "cell_type": "code",
   "execution_count": null,
   "metadata": {},
   "outputs": [],
   "source": []
  },
  {
   "cell_type": "code",
   "execution_count": null,
   "metadata": {},
   "outputs": [],
   "source": []
  },
  {
   "cell_type": "code",
   "execution_count": null,
   "metadata": {},
   "outputs": [],
   "source": []
  },
  {
   "cell_type": "code",
   "execution_count": null,
   "metadata": {},
   "outputs": [],
   "source": []
  },
  {
   "cell_type": "code",
   "execution_count": 29,
   "metadata": {},
   "outputs": [
    {
     "name": "stdout",
     "output_type": "stream",
     "text": [
      "[2.e+04 2.e+00 2.e+03 3.e+00 3.e-01]\n"
     ]
    },
    {
     "name": "stderr",
     "output_type": "stream",
     "text": [
      "C:\\ProgramData\\Anaconda3\\lib\\site-packages\\scipy\\optimize\\minpack.py:794: OptimizeWarning: Covariance of the parameters could not be estimated\n",
      "  category=OptimizeWarning)\n"
     ]
    },
    {
     "data": {
      "image/png": "[encoded data removed]",
      "text/plain": [
       "<Figure size 432x288 with 1 Axes>"
      ]
     },
     "metadata": {},
     "output_type": "display_data"
    },
    {
     "data": {
      "text/plain": [
       "<Figure size 432x288 with 0 Axes>"
      ]
     },
     "metadata": {},
     "output_type": "display_data"
    }
   ],
   "source": [
    "# 1.) Necessary imports.    \n",
    "import numpy as np\n",
    "import matplotlib.pyplot as plt\n",
    "from scipy.optimize import curve_fit\n",
    "\n",
    "# 2.) Define fit function.\n",
    "def fit_function(x, A, beta, B, mu, sigma):\n",
    "    return (A * np.exp(-x/beta) + B * np.exp(-1.0 * (x - mu)**2 / (2 * sigma**2)))\n",
    "\n",
    "# 3.) Generate exponential and gaussian data and histograms.\n",
    "# data = np.random.exponential(scale=2.0, size=100000)\n",
    "# data2 = np.random.normal(loc=3.0, scale=0.3, size=15000)\n",
    "data = np.array([[1890],\n",
    "       [1900],\n",
    "       [1905],\n",
    "       [1910],\n",
    "       [1915],\n",
    "       [1920],\n",
    "       [1925],\n",
    "       [1930],\n",
    "       [1935],\n",
    "       [1940],\n",
    "       [1945],\n",
    "       [1950],\n",
    "       [1955],\n",
    "       [1960],\n",
    "       [1962],\n",
    "       [1964],\n",
    "       [1966],\n",
    "       [1968],\n",
    "       [1970],\n",
    "       [1972],\n",
    "       [1974],\n",
    "       [1976],\n",
    "       [1978],\n",
    "       [1980],\n",
    "       [1982],\n",
    "       [1984]])\n",
    "data2 = np.array([[   77],\n",
    "       [  149],\n",
    "       [  215],\n",
    "       [  328],\n",
    "       [  432],\n",
    "       [  689],\n",
    "       [ 1069],\n",
    "       [ 1412],\n",
    "       [ 1655],\n",
    "       [ 2150],\n",
    "       [ 2595],\n",
    "       [ 3803],\n",
    "       [ 5626],\n",
    "       [ 7674],\n",
    "       [ 8882],\n",
    "       [10310],\n",
    "       [12016],\n",
    "       [14104],\n",
    "       [16690],\n",
    "       [18584],\n",
    "       [20389],\n",
    "       [20188],\n",
    "       [21922],\n",
    "       [21732],\n",
    "       [19403],\n",
    "       [19608]])\n",
    "\n",
    "bins = np.linspace(1880, 2000, 10)\n",
    "data_entries_1, bins_1 = np.histogram(data, bins=bins)\n",
    "data_entries_2, bins_2 = np.histogram(data2, bins=bins)\n",
    "\n",
    "# 4.) Add histograms of exponential and gaussian data.\n",
    "data_entries = data_entries_1 + data_entries_2\n",
    "binscenters = np.array([0.5 * (bins[i] + bins[i+1]) for i in range(len(bins)-1)])\n",
    "\n",
    "# 5.) Fit the function to the histogram data.\n",
    "popt, pcov = curve_fit(fit_function, xdata=binscenters, ydata=data_entries, p0=[20000, 2.0, 2000, 3.0, 0.3])\n",
    "print(popt)\n",
    "\n",
    "# 6.)\n",
    "# Generate enough x values to make the curves look smooth.\n",
    "xspace = np.linspace(1880, 2000, 10)\n",
    "\n",
    "# Plot the histogram and the fitted function.\n",
    "plt.bar(binscenters, data_entries, width=bins[1] - bins[0], color='navy', label=r'Histogram entries')\n",
    "plt.plot(xspace, fit_function(xspace, *popt), color='darkorange', linewidth=2.5, label=r'Fitted function')\n",
    "\n",
    "# Make the plot nicer.\n",
    "plt.xlim(0,6)\n",
    "plt.xlabel(r'YEAR')\n",
    "plt.ylabel(r'Oil Production')\n",
    "plt.title(r'Exponential decay with gaussian peak')\n",
    "plt.legend(loc='best')\n",
    "plt.show()\n",
    "plt.clf()"
   ]
  },
  {
   "cell_type": "code",
   "execution_count": null,
   "metadata": {},
   "outputs": [],
   "source": []
  },
  {
   "cell_type": "code",
   "execution_count": null,
   "metadata": {},
   "outputs": [],
   "source": []
  },
  {
   "cell_type": "code",
   "execution_count": null,
   "metadata": {},
   "outputs": [],
   "source": []
  }
 ],
 "metadata": {
  "kernelspec": {
   "display_name": "Python 3",
   "language": "python",
   "name": "python3"
  },
  "language_info": {
   "codemirror_mode": {
    "name": "ipython",
    "version": 3
   },
   "file_extension": ".py",
   "mimetype": "text/x-python",
   "name": "python",
   "nbconvert_exporter": "python",
   "pygments_lexer": "ipython3",
   "version": "3.6.5"
  }
 },
 "nbformat": 4,
 "nbformat_minor": 2
}
